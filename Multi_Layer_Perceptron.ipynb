{
  "nbformat": 4,
  "nbformat_minor": 0,
  "metadata": {
    "colab": {
      "provenance": []
    },
    "kernelspec": {
      "name": "python3",
      "display_name": "Python 3"
    },
    "language_info": {
      "name": "python"
    }
  },
  "cells": [
    {
      "cell_type": "markdown",
      "source": [
        "##Implementation of Single-layer Perceptron"
      ],
      "metadata": {
        "id": "unNDcEruK7VG"
      }
    },
    {
      "cell_type": "markdown",
      "source": [
        "Let’s build a simple single-layer perceptron to recognize handwritten digits from the MNIST dataset using TensorFlow. This model will help you understand how neural networks work at the most basic level."
      ],
      "metadata": {
        "id": "ghJlRzvpK_7O"
      }
    },
    {
      "cell_type": "markdown",
      "source": [
        "##Step1: Import necessary libraries\n",
        "Numpy - Numpy arrays are very fast and can perform large computations in a very short time.\n",
        "\n",
        "Matplotlib - This library is used to draw visualizations.\n",
        "\n",
        "TensorFlow - This is an open-source library that is used for Machine Learning and Artificial intelligence and provides a range of functions to achieve complex functionalities with single lines of code."
      ],
      "metadata": {
        "id": "_UXP6oKULEBm"
      }
    },
    {
      "cell_type": "code",
      "execution_count": 7,
      "metadata": {
        "id": "0hIO5pujsJrq"
      },
      "outputs": [],
      "source": [
        "import numpy as np\n",
        "import tensorflow as tf\n",
        "from tensorflow import keras\n",
        "import matplotlib.pyplot as plt"
      ]
    },
    {
      "cell_type": "markdown",
      "source": [
        "##Step 2: Load the Dataset\n",
        "Now we load the dataset using \"Keras\" from the imported version of tensor flow."
      ],
      "metadata": {
        "id": "UH8yJn6BLTbm"
      }
    },
    {
      "cell_type": "code",
      "source": [
        "(x_train, y_train),\\\n",
        "    (x_test, y_test) = keras.datasets.mnist.load_data()"
      ],
      "metadata": {
        "id": "hM7YSOdUsavc"
      },
      "execution_count": 8,
      "outputs": []
    },
    {
      "cell_type": "markdown",
      "source": [
        "Now display the shape and image of the single image in the dataset. The image size contains a 28*28 matrix and length of the training set is 60,000 and the testing set is 10,000. Each image is 28x28 pixels.\n",
        "\n",
        "The pixel values range from 0 (black) to 255 (white).\n",
        "matshow() displays the image in a grid format."
      ],
      "metadata": {
        "id": "c4A_-N8RLgHe"
      }
    },
    {
      "cell_type": "code",
      "source": [
        "print(len(x_train))\n",
        "print(len(x_test))\n",
        "print(x_train[0].shape) #displays the image size - 28 x 28 pixels\n",
        "plt.matshow(x_train[8]) #showing in gray scale"
      ],
      "metadata": {
        "colab": {
          "base_uri": "https://localhost:8080/",
          "height": 506
        },
        "id": "sVG1TikxKjYD",
        "outputId": "8aed7e94-88ce-4cea-eb35-4d9282192108"
      },
      "execution_count": 10,
      "outputs": [
        {
          "output_type": "stream",
          "name": "stdout",
          "text": [
            "60000\n",
            "10000\n",
            "(28, 28)\n"
          ]
        },
        {
          "output_type": "execute_result",
          "data": {
            "text/plain": [
              "<matplotlib.image.AxesImage at 0x7fdf90f0ee90>"
            ]
          },
          "metadata": {},
          "execution_count": 10
        },
        {
          "output_type": "display_data",
          "data": {
            "text/plain": [
              "<Figure size 480x480 with 1 Axes>"
            ],
            "image/png": "[encoded data removed]"
          },
          "metadata": {}
        }
      ]
    },
    {
      "cell_type": "code",
      "source": [
        "x_train[0].shape\n",
        "plt.matshow(x_train[0])"
      ],
      "metadata": {
        "colab": {
          "base_uri": "https://localhost:8080/",
          "height": 454
        },
        "id": "OKcapxP9MWnK",
        "outputId": "ce863ff9-4f09-4c14-8324-516416a8d738"
      },
      "execution_count": 11,
      "outputs": [
        {
          "output_type": "execute_result",
          "data": {
            "text/plain": [
              "<matplotlib.image.AxesImage at 0x7fdf90e91310>"
            ]
          },
          "metadata": {},
          "execution_count": 11
        },
        {
          "output_type": "display_data",
          "data": {
            "text/plain": [
              "<Figure size 480x480 with 1 Axes>"
            ],
            "image/png": "[encoded data removed]"
          },
          "metadata": {}
        }
      ]
    },
    {
      "cell_type": "markdown",
      "source": [
        "##Step 3: Normalize the Dataset\n",
        "Now normalize the dataset in order to compute the calculations in a fast and accurate manner. Normalization helps the model train faster and improves accuracy. Neural networks expect input in a 1D format so we flatten the 2D 28x28 images into 784-length vectors."
      ],
      "metadata": {
        "id": "uMbrDeSDLhsV"
      }
    },
    {
      "cell_type": "code",
      "source": [
        "x_train = x_train/255 #normalising image to 0 to 1 range\n",
        "x_test = x_test/255 #normalising image to 0 to 1 range\n",
        "\n",
        "# Flattening the dataset in order\n",
        "# to compute for model building\n",
        "x_train_flatten = x_train.reshape(len(x_train), 28*28) #any dimension image is converted to 1D vector. Here 28 x 28 is converted to vector of 748 elements\n",
        "x_test_flatten = x_test.reshape(len(x_test), 28*28)"
      ],
      "metadata": {
        "id": "-r1wHBv0Kld7"
      },
      "execution_count": 12,
      "outputs": []
    },
    {
      "cell_type": "markdown",
      "source": [
        "##Step 4: Building a neural network\n",
        "Now we will build neural network with single-layer perception. Here we can observe as the model is a single-layer perceptron that only contains one input layer and one output layer there is no presence of the hidden layers.\n",
        "\n",
        "10 output neurons (one for each digit from 0 to 9).\n",
        "input_shape=(784) matches the flattened image shape.\n",
        "We use sigmoid activation which outputs probabilities between 0 and 1 for each digit class."
      ],
      "metadata": {
        "id": "yptQdc31LlVm"
      }
    },
    {
      "cell_type": "code",
      "source": [
        "model = keras.Sequential([ #creating a linear stack of layers\n",
        "    keras.layers.Dense(10, input_shape=(784,), # 10 output neurons\n",
        "                       activation='sigmoid')\n",
        "])\n",
        "model.compile(\n",
        "    optimizer='adam', #learning rate will be adjusted\n",
        "    loss='sparse_categorical_crossentropy',\n",
        "    metrics=['accuracy'])\n",
        "\n",
        "model.fit(x_train_flatten, y_train, epochs=5) #X_train_flatten- 748 elemneted vector,, y_train is the labels"
      ],
      "metadata": {
        "colab": {
          "base_uri": "https://localhost:8080/"
        },
        "id": "3d_Yk8EaKnmz",
        "outputId": "22e4cb74-479a-443c-f5fd-734861c521a2"
      },
      "execution_count": 13,
      "outputs": [
        {
          "output_type": "stream",
          "name": "stderr",
          "text": [
            "/usr/local/lib/python3.11/dist-packages/keras/src/layers/core/dense.py:87: UserWarning: Do not pass an `input_shape`/`input_dim` argument to a layer. When using Sequential models, prefer using an `Input(shape)` object as the first layer in the model instead.\n",
            "  super().__init__(activity_regularizer=activity_regularizer, **kwargs)\n"
          ]
        },
        {
          "output_type": "stream",
          "name": "stdout",
          "text": [
            "Epoch 1/5\n",
            "\u001b[1m1875/1875\u001b[0m \u001b[32m━━━━━━━━━━━━━━━━━━━━\u001b[0m\u001b[37m\u001b[0m \u001b[1m5s\u001b[0m 2ms/step - accuracy: 0.8176 - loss: 0.7136\n",
            "Epoch 2/5\n",
            "\u001b[1m1875/1875\u001b[0m \u001b[32m━━━━━━━━━━━━━━━━━━━━\u001b[0m\u001b[37m\u001b[0m \u001b[1m5s\u001b[0m 2ms/step - accuracy: 0.9137 - loss: 0.3107\n",
            "Epoch 3/5\n",
            "\u001b[1m1875/1875\u001b[0m \u001b[32m━━━━━━━━━━━━━━━━━━━━\u001b[0m\u001b[37m\u001b[0m \u001b[1m6s\u001b[0m 2ms/step - accuracy: 0.9199 - loss: 0.2862\n",
            "Epoch 4/5\n",
            "\u001b[1m1875/1875\u001b[0m \u001b[32m━━━━━━━━━━━━━━━━━━━━\u001b[0m\u001b[37m\u001b[0m \u001b[1m4s\u001b[0m 2ms/step - accuracy: 0.9237 - loss: 0.2755\n",
            "Epoch 5/5\n",
            "\u001b[1m1875/1875\u001b[0m \u001b[32m━━━━━━━━━━━━━━━━━━━━\u001b[0m\u001b[37m\u001b[0m \u001b[1m3s\u001b[0m 2ms/step - accuracy: 0.9256 - loss: 0.2650\n"
          ]
        },
        {
          "output_type": "execute_result",
          "data": {
            "text/plain": [
              "<keras.src.callbacks.history.History at 0x7fdf90fa50d0>"
            ]
          },
          "metadata": {},
          "execution_count": 13
        }
      ]
    },
    {
      "cell_type": "markdown",
      "source": [
        "##Step 5: Model Evaluation\n",
        "After training we test the model's performance on unseen data. This gives the loss and accuracy on the test dataset."
      ],
      "metadata": {
        "id": "MJHGc1W-Lp2m"
      }
    },
    {
      "cell_type": "code",
      "source": [
        "model.evaluate(x_test_flatten, y_test)"
      ],
      "metadata": {
        "colab": {
          "base_uri": "https://localhost:8080/"
        },
        "id": "2tmIuQ1IKpXj",
        "outputId": "a0280d18-2096-4872-9ed3-92e32d494e22"
      },
      "execution_count": null,
      "outputs": [
        {
          "output_type": "stream",
          "name": "stdout",
          "text": [
            "\u001b[1m313/313\u001b[0m \u001b[32m━━━━━━━━━━━━━━━━━━━━\u001b[0m\u001b[37m\u001b[0m \u001b[1m0s\u001b[0m 1ms/step - accuracy: 0.9148 - loss: 0.3011\n"
          ]
        },
        {
          "output_type": "execute_result",
          "data": {
            "text/plain": [
              "[0.26756805181503296, 0.925599992275238]"
            ]
          },
          "metadata": {},
          "execution_count": 10
        }
      ]
    }
  ]
}